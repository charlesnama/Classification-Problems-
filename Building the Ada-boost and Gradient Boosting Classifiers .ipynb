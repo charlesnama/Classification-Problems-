{
 "cells": [
  {
   "cell_type": "code",
   "execution_count": 2,
   "metadata": {},
   "outputs": [],
   "source": [
    "import pandas as pd \n",
    "import numpy as np \n",
    "from sklearn.model_selection import train_test_split \n",
    "from sklearn.preprocessing import LabelEncoder \n",
    "from sklearn.preprocessing import MinMaxScaler \n",
    "\n",
    "%matplotlib inline \n",
    "import matplotlib.pyplot as plt \n",
    "import seaborn as sns \n",
    "\n",
    "from sklearn.model_selection import GridSearchCV \n",
    "\n",
    "from sklearn.metrics import accuracy_score, classification_report, recall_score, precision_score, confusion_matrix \n",
    "from sklearn.tree import DecisionTreeClassifier \n",
    "from sklearn.ensemble import GradientBoostingClassifier \n",
    "from sklearn.ensemble import AdaBoostClassifier \n",
    "\n",
    "#from xgboost import XGBClassifier \n",
    "\n",
    "import warnings \n",
    "warnings.filterwarnings('ignore')"
   ]
  },
  {
   "cell_type": "code",
   "execution_count": 3,
   "metadata": {},
   "outputs": [
    {
     "data": {
      "text/plain": [
       "(8001, 27)"
      ]
     },
     "execution_count": 3,
     "metadata": {},
     "output_type": "execute_result"
    }
   ],
   "source": [
    "data = pd.read_csv('/Users/mac/Desktop/untitled folder/train.csv')\n",
    "data.shape"
   ]
  },
  {
   "cell_type": "code",
   "execution_count": 4,
   "metadata": {},
   "outputs": [
    {
     "data": {
      "text/html": [
       "<div>\n",
       "<style scoped>\n",
       "    .dataframe tbody tr th:only-of-type {\n",
       "        vertical-align: middle;\n",
       "    }\n",
       "\n",
       "    .dataframe tbody tr th {\n",
       "        vertical-align: top;\n",
       "    }\n",
       "\n",
       "    .dataframe thead th {\n",
       "        text-align: right;\n",
       "    }\n",
       "</style>\n",
       "<table border=\"1\" class=\"dataframe\">\n",
       "  <thead>\n",
       "    <tr style=\"text-align: right;\">\n",
       "      <th></th>\n",
       "      <th>rally</th>\n",
       "      <th>serve</th>\n",
       "      <th>hitpoint</th>\n",
       "      <th>speed</th>\n",
       "      <th>net.clearance</th>\n",
       "      <th>distance.from.sideline</th>\n",
       "      <th>depth</th>\n",
       "      <th>outside.sideline</th>\n",
       "      <th>outside.baseline</th>\n",
       "      <th>player.distance.travelled</th>\n",
       "      <th>...</th>\n",
       "      <th>previous.depth</th>\n",
       "      <th>opponent.depth</th>\n",
       "      <th>opponent.distance.from.center</th>\n",
       "      <th>same.side</th>\n",
       "      <th>previous.hitpoint</th>\n",
       "      <th>previous.time.to.net</th>\n",
       "      <th>server.is.impact.player</th>\n",
       "      <th>outcome</th>\n",
       "      <th>gender</th>\n",
       "      <th>ID</th>\n",
       "    </tr>\n",
       "  </thead>\n",
       "  <tbody>\n",
       "    <tr>\n",
       "      <th>0</th>\n",
       "      <td>4</td>\n",
       "      <td>1</td>\n",
       "      <td>B</td>\n",
       "      <td>35.515042</td>\n",
       "      <td>-0.021725</td>\n",
       "      <td>3.474766</td>\n",
       "      <td>6.797621</td>\n",
       "      <td>False</td>\n",
       "      <td>False</td>\n",
       "      <td>1.467570</td>\n",
       "      <td>...</td>\n",
       "      <td>0.705435</td>\n",
       "      <td>12.5628</td>\n",
       "      <td>2.0724</td>\n",
       "      <td>True</td>\n",
       "      <td>F</td>\n",
       "      <td>0.445318</td>\n",
       "      <td>False</td>\n",
       "      <td>UE</td>\n",
       "      <td>mens</td>\n",
       "      <td>8644</td>\n",
       "    </tr>\n",
       "    <tr>\n",
       "      <th>1</th>\n",
       "      <td>4</td>\n",
       "      <td>2</td>\n",
       "      <td>B</td>\n",
       "      <td>33.382640</td>\n",
       "      <td>1.114202</td>\n",
       "      <td>2.540801</td>\n",
       "      <td>2.608708</td>\n",
       "      <td>False</td>\n",
       "      <td>True</td>\n",
       "      <td>2.311931</td>\n",
       "      <td>...</td>\n",
       "      <td>3.856600</td>\n",
       "      <td>12.3544</td>\n",
       "      <td>5.1124</td>\n",
       "      <td>False</td>\n",
       "      <td>B</td>\n",
       "      <td>0.432434</td>\n",
       "      <td>False</td>\n",
       "      <td>FE</td>\n",
       "      <td>mens</td>\n",
       "      <td>1182</td>\n",
       "    </tr>\n",
       "    <tr>\n",
       "      <th>2</th>\n",
       "      <td>23</td>\n",
       "      <td>1</td>\n",
       "      <td>B</td>\n",
       "      <td>22.316690</td>\n",
       "      <td>-0.254046</td>\n",
       "      <td>3.533166</td>\n",
       "      <td>9.435749</td>\n",
       "      <td>False</td>\n",
       "      <td>False</td>\n",
       "      <td>3.903728</td>\n",
       "      <td>...</td>\n",
       "      <td>2.908892</td>\n",
       "      <td>13.8620</td>\n",
       "      <td>1.6564</td>\n",
       "      <td>False</td>\n",
       "      <td>F</td>\n",
       "      <td>0.397538</td>\n",
       "      <td>True</td>\n",
       "      <td>FE</td>\n",
       "      <td>mens</td>\n",
       "      <td>9042</td>\n",
       "    </tr>\n",
       "    <tr>\n",
       "      <th>3</th>\n",
       "      <td>9</td>\n",
       "      <td>1</td>\n",
       "      <td>F</td>\n",
       "      <td>36.837309</td>\n",
       "      <td>0.766694</td>\n",
       "      <td>0.586885</td>\n",
       "      <td>3.342180</td>\n",
       "      <td>True</td>\n",
       "      <td>False</td>\n",
       "      <td>0.583745</td>\n",
       "      <td>...</td>\n",
       "      <td>0.557554</td>\n",
       "      <td>14.2596</td>\n",
       "      <td>0.1606</td>\n",
       "      <td>True</td>\n",
       "      <td>B</td>\n",
       "      <td>0.671984</td>\n",
       "      <td>True</td>\n",
       "      <td>UE</td>\n",
       "      <td>mens</td>\n",
       "      <td>1222</td>\n",
       "    </tr>\n",
       "    <tr>\n",
       "      <th>4</th>\n",
       "      <td>4</td>\n",
       "      <td>1</td>\n",
       "      <td>B</td>\n",
       "      <td>35.544208</td>\n",
       "      <td>0.116162</td>\n",
       "      <td>0.918725</td>\n",
       "      <td>5.499119</td>\n",
       "      <td>False</td>\n",
       "      <td>False</td>\n",
       "      <td>2.333456</td>\n",
       "      <td>...</td>\n",
       "      <td>3.945317</td>\n",
       "      <td>11.3658</td>\n",
       "      <td>1.1082</td>\n",
       "      <td>False</td>\n",
       "      <td>F</td>\n",
       "      <td>0.340411</td>\n",
       "      <td>False</td>\n",
       "      <td>W</td>\n",
       "      <td>mens</td>\n",
       "      <td>4085</td>\n",
       "    </tr>\n",
       "    <tr>\n",
       "      <th>5</th>\n",
       "      <td>10</td>\n",
       "      <td>1</td>\n",
       "      <td>B</td>\n",
       "      <td>39.012186</td>\n",
       "      <td>0.349889</td>\n",
       "      <td>0.485098</td>\n",
       "      <td>3.264708</td>\n",
       "      <td>True</td>\n",
       "      <td>False</td>\n",
       "      <td>0.804337</td>\n",
       "      <td>...</td>\n",
       "      <td>5.007207</td>\n",
       "      <td>13.4220</td>\n",
       "      <td>2.0316</td>\n",
       "      <td>True</td>\n",
       "      <td>F</td>\n",
       "      <td>0.533950</td>\n",
       "      <td>False</td>\n",
       "      <td>UE</td>\n",
       "      <td>mens</td>\n",
       "      <td>292</td>\n",
       "    </tr>\n",
       "  </tbody>\n",
       "</table>\n",
       "<p>6 rows × 27 columns</p>\n",
       "</div>"
      ],
      "text/plain": [
       "   rally  serve hitpoint      speed  net.clearance  distance.from.sideline  \\\n",
       "0      4      1        B  35.515042      -0.021725                3.474766   \n",
       "1      4      2        B  33.382640       1.114202                2.540801   \n",
       "2     23      1        B  22.316690      -0.254046                3.533166   \n",
       "3      9      1        F  36.837309       0.766694                0.586885   \n",
       "4      4      1        B  35.544208       0.116162                0.918725   \n",
       "5     10      1        B  39.012186       0.349889                0.485098   \n",
       "\n",
       "      depth  outside.sideline  outside.baseline  player.distance.travelled  \\\n",
       "0  6.797621             False             False                   1.467570   \n",
       "1  2.608708             False              True                   2.311931   \n",
       "2  9.435749             False             False                   3.903728   \n",
       "3  3.342180              True             False                   0.583745   \n",
       "4  5.499119             False             False                   2.333456   \n",
       "5  3.264708              True             False                   0.804337   \n",
       "\n",
       "   ...  previous.depth  opponent.depth  opponent.distance.from.center  \\\n",
       "0  ...        0.705435         12.5628                         2.0724   \n",
       "1  ...        3.856600         12.3544                         5.1124   \n",
       "2  ...        2.908892         13.8620                         1.6564   \n",
       "3  ...        0.557554         14.2596                         0.1606   \n",
       "4  ...        3.945317         11.3658                         1.1082   \n",
       "5  ...        5.007207         13.4220                         2.0316   \n",
       "\n",
       "   same.side  previous.hitpoint  previous.time.to.net  \\\n",
       "0       True                  F              0.445318   \n",
       "1      False                  B              0.432434   \n",
       "2      False                  F              0.397538   \n",
       "3       True                  B              0.671984   \n",
       "4      False                  F              0.340411   \n",
       "5       True                  F              0.533950   \n",
       "\n",
       "   server.is.impact.player  outcome  gender    ID  \n",
       "0                    False       UE    mens  8644  \n",
       "1                    False       FE    mens  1182  \n",
       "2                     True       FE    mens  9042  \n",
       "3                     True       UE    mens  1222  \n",
       "4                    False        W    mens  4085  \n",
       "5                    False       UE    mens   292  \n",
       "\n",
       "[6 rows x 27 columns]"
      ]
     },
     "execution_count": 4,
     "metadata": {},
     "output_type": "execute_result"
    }
   ],
   "source": [
    "data.head(6)"
   ]
  },
  {
   "cell_type": "code",
   "execution_count": 5,
   "metadata": {},
   "outputs": [
    {
     "data": {
      "text/plain": [
       "array(['UE', 'FE', 'W'], dtype=object)"
      ]
     },
     "execution_count": 5,
     "metadata": {},
     "output_type": "execute_result"
    }
   ],
   "source": [
    "pd.unique(data.outcome) #printing unique values "
   ]
  },
  {
   "cell_type": "markdown",
   "metadata": {},
   "source": [
    "<b>Outcome variable - classes</b>\n",
    "<ul>Winner – the point winning player hits a shot that is not touched by the opponent</ul>\n",
    "<ul>Forced error – the point winning player hits a shot that causes the opponent to not be able to return it, i.e. a good shot that is hard to handle</ul>\n",
    "<ul>Unforced error – the player attempting to return the ball makes an error on an otherwise normal looking rally shot</ul>"
   ]
  },
  {
   "cell_type": "code",
   "execution_count": 6,
   "metadata": {},
   "outputs": [
    {
     "data": {
      "text/plain": [
       "27"
      ]
     },
     "execution_count": 6,
     "metadata": {},
     "output_type": "execute_result"
    }
   ],
   "source": [
    "len(data.columns)"
   ]
  },
  {
   "cell_type": "code",
   "execution_count": 7,
   "metadata": {},
   "outputs": [
    {
     "data": {
      "text/plain": [
       "rally                                   int64\n",
       "serve                                   int64\n",
       "hitpoint                               object\n",
       "speed                                 float64\n",
       "net.clearance                         float64\n",
       "distance.from.sideline                float64\n",
       "depth                                 float64\n",
       "outside.sideline                         bool\n",
       "outside.baseline                         bool\n",
       "player.distance.travelled             float64\n",
       "player.impact.depth                   float64\n",
       "player.impact.distance.from.center    float64\n",
       "player.depth                          float64\n",
       "player.distance.from.center           float64\n",
       "previous.speed                        float64\n",
       "previous.net.clearance                float64\n",
       "previous.distance.from.sideline       float64\n",
       "previous.depth                        float64\n",
       "opponent.depth                        float64\n",
       "opponent.distance.from.center         float64\n",
       "same.side                                bool\n",
       "previous.hitpoint                      object\n",
       "previous.time.to.net                  float64\n",
       "server.is.impact.player                  bool\n",
       "outcome                                object\n",
       "gender                                 object\n",
       "ID                                      int64\n",
       "dtype: object"
      ]
     },
     "execution_count": 7,
     "metadata": {},
     "output_type": "execute_result"
    }
   ],
   "source": [
    "data.dtypes"
   ]
  },
  {
   "cell_type": "code",
   "execution_count": 12,
   "metadata": {},
   "outputs": [],
   "source": [
    "categorical_list =['hitpoint','outside.sideline','outside.baseline','same.side','previous.hitpoint','server.is.impact.player','gender','outcome']"
   ]
  },
  {
   "cell_type": "code",
   "execution_count": 13,
   "metadata": {},
   "outputs": [],
   "source": [
    "for i in data[categorical_list]:\n",
    "    data[i] = data[i].astype('category')"
   ]
  },
  {
   "cell_type": "code",
   "execution_count": 14,
   "metadata": {},
   "outputs": [
    {
     "data": {
      "text/plain": [
       "rally                                    int64\n",
       "serve                                    int64\n",
       "hitpoint                              category\n",
       "speed                                  float64\n",
       "net.clearance                          float64\n",
       "distance.from.sideline                 float64\n",
       "depth                                  float64\n",
       "outside.sideline                      category\n",
       "outside.baseline                      category\n",
       "player.distance.travelled              float64\n",
       "player.impact.depth                    float64\n",
       "player.impact.distance.from.center     float64\n",
       "player.depth                           float64\n",
       "player.distance.from.center            float64\n",
       "previous.speed                         float64\n",
       "previous.net.clearance                 float64\n",
       "previous.distance.from.sideline        float64\n",
       "previous.depth                         float64\n",
       "opponent.depth                         float64\n",
       "opponent.distance.from.center          float64\n",
       "same.side                             category\n",
       "previous.hitpoint                     category\n",
       "previous.time.to.net                   float64\n",
       "server.is.impact.player               category\n",
       "outcome                               category\n",
       "gender                                category\n",
       "ID                                       int64\n",
       "dtype: object"
      ]
     },
     "execution_count": 14,
     "metadata": {},
     "output_type": "execute_result"
    }
   ],
   "source": [
    "data.dtypes"
   ]
  },
  {
   "cell_type": "code",
   "execution_count": 15,
   "metadata": {},
   "outputs": [
    {
     "data": {
      "text/plain": [
       "26"
      ]
     },
     "execution_count": 15,
     "metadata": {},
     "output_type": "execute_result"
    }
   ],
   "source": [
    "data.drop(['ID'], axis=1, inplace=True)\n",
    "len(data.columns)"
   ]
  },
  {
   "cell_type": "code",
   "execution_count": 16,
   "metadata": {},
   "outputs": [
    {
     "data": {
      "text/html": [
       "<div>\n",
       "<style scoped>\n",
       "    .dataframe tbody tr th:only-of-type {\n",
       "        vertical-align: middle;\n",
       "    }\n",
       "\n",
       "    .dataframe tbody tr th {\n",
       "        vertical-align: top;\n",
       "    }\n",
       "\n",
       "    .dataframe thead th {\n",
       "        text-align: right;\n",
       "    }\n",
       "</style>\n",
       "<table border=\"1\" class=\"dataframe\">\n",
       "  <thead>\n",
       "    <tr style=\"text-align: right;\">\n",
       "      <th></th>\n",
       "      <th>rally</th>\n",
       "      <th>serve</th>\n",
       "      <th>speed</th>\n",
       "      <th>net.clearance</th>\n",
       "      <th>distance.from.sideline</th>\n",
       "      <th>depth</th>\n",
       "      <th>player.distance.travelled</th>\n",
       "      <th>player.impact.depth</th>\n",
       "      <th>player.impact.distance.from.center</th>\n",
       "      <th>player.depth</th>\n",
       "      <th>player.distance.from.center</th>\n",
       "      <th>previous.speed</th>\n",
       "      <th>previous.net.clearance</th>\n",
       "      <th>previous.distance.from.sideline</th>\n",
       "      <th>previous.depth</th>\n",
       "      <th>opponent.depth</th>\n",
       "      <th>opponent.distance.from.center</th>\n",
       "      <th>previous.time.to.net</th>\n",
       "    </tr>\n",
       "  </thead>\n",
       "  <tbody>\n",
       "    <tr>\n",
       "      <th>count</th>\n",
       "      <td>8001.000000</td>\n",
       "      <td>8001.000000</td>\n",
       "      <td>8001.000000</td>\n",
       "      <td>8001.000000</td>\n",
       "      <td>8001.000000</td>\n",
       "      <td>8001.000000</td>\n",
       "      <td>8001.000000</td>\n",
       "      <td>8001.000000</td>\n",
       "      <td>8001.000000</td>\n",
       "      <td>8001.000000</td>\n",
       "      <td>8001.000000</td>\n",
       "      <td>8001.000000</td>\n",
       "      <td>8001.000000</td>\n",
       "      <td>8001.000000</td>\n",
       "      <td>8001.000000</td>\n",
       "      <td>8001.000000</td>\n",
       "      <td>8001.000000</td>\n",
       "      <td>8001.000000</td>\n",
       "    </tr>\n",
       "    <tr>\n",
       "      <th>mean</th>\n",
       "      <td>5.966004</td>\n",
       "      <td>1.398700</td>\n",
       "      <td>30.806938</td>\n",
       "      <td>0.629658</td>\n",
       "      <td>1.467630</td>\n",
       "      <td>4.421146</td>\n",
       "      <td>2.690463</td>\n",
       "      <td>11.899694</td>\n",
       "      <td>1.919544</td>\n",
       "      <td>12.253954</td>\n",
       "      <td>1.213795</td>\n",
       "      <td>28.763676</td>\n",
       "      <td>0.821562</td>\n",
       "      <td>2.193420</td>\n",
       "      <td>4.218717</td>\n",
       "      <td>12.616810</td>\n",
       "      <td>2.367952</td>\n",
       "      <td>0.549988</td>\n",
       "    </tr>\n",
       "    <tr>\n",
       "      <th>std</th>\n",
       "      <td>3.548182</td>\n",
       "      <td>0.489661</td>\n",
       "      <td>7.298917</td>\n",
       "      <td>0.982504</td>\n",
       "      <td>1.108697</td>\n",
       "      <td>3.144965</td>\n",
       "      <td>1.713136</td>\n",
       "      <td>2.788231</td>\n",
       "      <td>1.205449</td>\n",
       "      <td>2.039085</td>\n",
       "      <td>0.964364</td>\n",
       "      <td>6.477470</td>\n",
       "      <td>0.674663</td>\n",
       "      <td>1.038942</td>\n",
       "      <td>2.052946</td>\n",
       "      <td>2.075401</td>\n",
       "      <td>1.313927</td>\n",
       "      <td>0.186788</td>\n",
       "    </tr>\n",
       "    <tr>\n",
       "      <th>min</th>\n",
       "      <td>3.000000</td>\n",
       "      <td>1.000000</td>\n",
       "      <td>5.176078</td>\n",
       "      <td>-0.998184</td>\n",
       "      <td>0.000497</td>\n",
       "      <td>0.003135</td>\n",
       "      <td>0.000000</td>\n",
       "      <td>2.156000</td>\n",
       "      <td>0.000200</td>\n",
       "      <td>1.389800</td>\n",
       "      <td>0.000400</td>\n",
       "      <td>8.449117</td>\n",
       "      <td>0.028865</td>\n",
       "      <td>0.000164</td>\n",
       "      <td>0.000467</td>\n",
       "      <td>2.161200</td>\n",
       "      <td>0.000200</td>\n",
       "      <td>0.003201</td>\n",
       "    </tr>\n",
       "    <tr>\n",
       "      <th>25%</th>\n",
       "      <td>3.000000</td>\n",
       "      <td>1.000000</td>\n",
       "      <td>26.770290</td>\n",
       "      <td>-0.027092</td>\n",
       "      <td>0.539500</td>\n",
       "      <td>1.641161</td>\n",
       "      <td>1.444233</td>\n",
       "      <td>11.221400</td>\n",
       "      <td>0.942400</td>\n",
       "      <td>11.374200</td>\n",
       "      <td>0.551800</td>\n",
       "      <td>24.033218</td>\n",
       "      <td>0.404815</td>\n",
       "      <td>1.354458</td>\n",
       "      <td>2.733674</td>\n",
       "      <td>12.082400</td>\n",
       "      <td>1.352200</td>\n",
       "      <td>0.432164</td>\n",
       "    </tr>\n",
       "    <tr>\n",
       "      <th>50%</th>\n",
       "      <td>5.000000</td>\n",
       "      <td>1.000000</td>\n",
       "      <td>32.417690</td>\n",
       "      <td>0.445870</td>\n",
       "      <td>1.210847</td>\n",
       "      <td>3.860266</td>\n",
       "      <td>2.360894</td>\n",
       "      <td>12.691800</td>\n",
       "      <td>1.829400</td>\n",
       "      <td>12.551600</td>\n",
       "      <td>0.983800</td>\n",
       "      <td>29.793417</td>\n",
       "      <td>0.658382</td>\n",
       "      <td>2.168822</td>\n",
       "      <td>4.126864</td>\n",
       "      <td>12.901600</td>\n",
       "      <td>2.332000</td>\n",
       "      <td>0.507559</td>\n",
       "    </tr>\n",
       "    <tr>\n",
       "      <th>75%</th>\n",
       "      <td>7.000000</td>\n",
       "      <td>2.000000</td>\n",
       "      <td>35.681431</td>\n",
       "      <td>0.970844</td>\n",
       "      <td>2.215955</td>\n",
       "      <td>7.029345</td>\n",
       "      <td>3.565853</td>\n",
       "      <td>13.553000</td>\n",
       "      <td>2.745200</td>\n",
       "      <td>13.498000</td>\n",
       "      <td>1.596600</td>\n",
       "      <td>33.581003</td>\n",
       "      <td>1.021397</td>\n",
       "      <td>3.022677</td>\n",
       "      <td>5.595515</td>\n",
       "      <td>13.712800</td>\n",
       "      <td>3.259000</td>\n",
       "      <td>0.624135</td>\n",
       "    </tr>\n",
       "    <tr>\n",
       "      <th>max</th>\n",
       "      <td>38.000000</td>\n",
       "      <td>2.000000</td>\n",
       "      <td>55.052795</td>\n",
       "      <td>12.815893</td>\n",
       "      <td>7.569757</td>\n",
       "      <td>11.886069</td>\n",
       "      <td>14.480546</td>\n",
       "      <td>18.125600</td>\n",
       "      <td>7.746200</td>\n",
       "      <td>18.745800</td>\n",
       "      <td>9.352600</td>\n",
       "      <td>54.207506</td>\n",
       "      <td>6.730275</td>\n",
       "      <td>4.114361</td>\n",
       "      <td>9.997963</td>\n",
       "      <td>20.211000</td>\n",
       "      <td>6.852600</td>\n",
       "      <td>1.635257</td>\n",
       "    </tr>\n",
       "  </tbody>\n",
       "</table>\n",
       "</div>"
      ],
      "text/plain": [
       "             rally        serve        speed  net.clearance  \\\n",
       "count  8001.000000  8001.000000  8001.000000    8001.000000   \n",
       "mean      5.966004     1.398700    30.806938       0.629658   \n",
       "std       3.548182     0.489661     7.298917       0.982504   \n",
       "min       3.000000     1.000000     5.176078      -0.998184   \n",
       "25%       3.000000     1.000000    26.770290      -0.027092   \n",
       "50%       5.000000     1.000000    32.417690       0.445870   \n",
       "75%       7.000000     2.000000    35.681431       0.970844   \n",
       "max      38.000000     2.000000    55.052795      12.815893   \n",
       "\n",
       "       distance.from.sideline        depth  player.distance.travelled  \\\n",
       "count             8001.000000  8001.000000                8001.000000   \n",
       "mean                 1.467630     4.421146                   2.690463   \n",
       "std                  1.108697     3.144965                   1.713136   \n",
       "min                  0.000497     0.003135                   0.000000   \n",
       "25%                  0.539500     1.641161                   1.444233   \n",
       "50%                  1.210847     3.860266                   2.360894   \n",
       "75%                  2.215955     7.029345                   3.565853   \n",
       "max                  7.569757    11.886069                  14.480546   \n",
       "\n",
       "       player.impact.depth  player.impact.distance.from.center  player.depth  \\\n",
       "count          8001.000000                         8001.000000   8001.000000   \n",
       "mean             11.899694                            1.919544     12.253954   \n",
       "std               2.788231                            1.205449      2.039085   \n",
       "min               2.156000                            0.000200      1.389800   \n",
       "25%              11.221400                            0.942400     11.374200   \n",
       "50%              12.691800                            1.829400     12.551600   \n",
       "75%              13.553000                            2.745200     13.498000   \n",
       "max              18.125600                            7.746200     18.745800   \n",
       "\n",
       "       player.distance.from.center  previous.speed  previous.net.clearance  \\\n",
       "count                  8001.000000     8001.000000             8001.000000   \n",
       "mean                      1.213795       28.763676                0.821562   \n",
       "std                       0.964364        6.477470                0.674663   \n",
       "min                       0.000400        8.449117                0.028865   \n",
       "25%                       0.551800       24.033218                0.404815   \n",
       "50%                       0.983800       29.793417                0.658382   \n",
       "75%                       1.596600       33.581003                1.021397   \n",
       "max                       9.352600       54.207506                6.730275   \n",
       "\n",
       "       previous.distance.from.sideline  previous.depth  opponent.depth  \\\n",
       "count                      8001.000000     8001.000000     8001.000000   \n",
       "mean                          2.193420        4.218717       12.616810   \n",
       "std                           1.038942        2.052946        2.075401   \n",
       "min                           0.000164        0.000467        2.161200   \n",
       "25%                           1.354458        2.733674       12.082400   \n",
       "50%                           2.168822        4.126864       12.901600   \n",
       "75%                           3.022677        5.595515       13.712800   \n",
       "max                           4.114361        9.997963       20.211000   \n",
       "\n",
       "       opponent.distance.from.center  previous.time.to.net  \n",
       "count                    8001.000000           8001.000000  \n",
       "mean                        2.367952              0.549988  \n",
       "std                         1.313927              0.186788  \n",
       "min                         0.000200              0.003201  \n",
       "25%                         1.352200              0.432164  \n",
       "50%                         2.332000              0.507559  \n",
       "75%                         3.259000              0.624135  \n",
       "max                         6.852600              1.635257  "
      ]
     },
     "execution_count": 16,
     "metadata": {},
     "output_type": "execute_result"
    }
   ],
   "source": [
    "data.describe()"
   ]
  },
  {
   "cell_type": "code",
   "execution_count": 17,
   "metadata": {},
   "outputs": [
    {
     "data": {
      "text/html": [
       "<div>\n",
       "<style scoped>\n",
       "    .dataframe tbody tr th:only-of-type {\n",
       "        vertical-align: middle;\n",
       "    }\n",
       "\n",
       "    .dataframe tbody tr th {\n",
       "        vertical-align: top;\n",
       "    }\n",
       "\n",
       "    .dataframe thead th {\n",
       "        text-align: right;\n",
       "    }\n",
       "</style>\n",
       "<table border=\"1\" class=\"dataframe\">\n",
       "  <thead>\n",
       "    <tr style=\"text-align: right;\">\n",
       "      <th></th>\n",
       "      <th>hitpoint</th>\n",
       "      <th>outside.sideline</th>\n",
       "      <th>outside.baseline</th>\n",
       "      <th>same.side</th>\n",
       "      <th>previous.hitpoint</th>\n",
       "      <th>server.is.impact.player</th>\n",
       "      <th>outcome</th>\n",
       "      <th>gender</th>\n",
       "    </tr>\n",
       "  </thead>\n",
       "  <tbody>\n",
       "    <tr>\n",
       "      <th>count</th>\n",
       "      <td>8001</td>\n",
       "      <td>8001</td>\n",
       "      <td>8001</td>\n",
       "      <td>8001</td>\n",
       "      <td>8001</td>\n",
       "      <td>8001</td>\n",
       "      <td>8001</td>\n",
       "      <td>8001</td>\n",
       "    </tr>\n",
       "    <tr>\n",
       "      <th>unique</th>\n",
       "      <td>4</td>\n",
       "      <td>2</td>\n",
       "      <td>2</td>\n",
       "      <td>2</td>\n",
       "      <td>4</td>\n",
       "      <td>2</td>\n",
       "      <td>3</td>\n",
       "      <td>2</td>\n",
       "    </tr>\n",
       "    <tr>\n",
       "      <th>top</th>\n",
       "      <td>F</td>\n",
       "      <td>False</td>\n",
       "      <td>False</td>\n",
       "      <td>False</td>\n",
       "      <td>F</td>\n",
       "      <td>True</td>\n",
       "      <td>UE</td>\n",
       "      <td>mens</td>\n",
       "    </tr>\n",
       "    <tr>\n",
       "      <th>freq</th>\n",
       "      <td>4402</td>\n",
       "      <td>6500</td>\n",
       "      <td>6380</td>\n",
       "      <td>6036</td>\n",
       "      <td>3684</td>\n",
       "      <td>4670</td>\n",
       "      <td>3501</td>\n",
       "      <td>4005</td>\n",
       "    </tr>\n",
       "  </tbody>\n",
       "</table>\n",
       "</div>"
      ],
      "text/plain": [
       "       hitpoint outside.sideline outside.baseline same.side previous.hitpoint  \\\n",
       "count      8001             8001             8001      8001              8001   \n",
       "unique        4                2                2         2                 4   \n",
       "top           F            False            False     False                 F   \n",
       "freq       4402             6500             6380      6036              3684   \n",
       "\n",
       "       server.is.impact.player outcome gender  \n",
       "count                     8001    8001   8001  \n",
       "unique                       2       3      2  \n",
       "top                       True      UE   mens  \n",
       "freq                      4670    3501   4005  "
      ]
     },
     "execution_count": 17,
     "metadata": {},
     "output_type": "execute_result"
    }
   ],
   "source": [
    "data.describe(include=['category'])"
   ]
  },
  {
   "cell_type": "code",
   "execution_count": 18,
   "metadata": {},
   "outputs": [
    {
     "data": {
      "text/plain": [
       "rally                                 0\n",
       "serve                                 0\n",
       "hitpoint                              0\n",
       "speed                                 0\n",
       "net.clearance                         0\n",
       "distance.from.sideline                0\n",
       "depth                                 0\n",
       "outside.sideline                      0\n",
       "outside.baseline                      0\n",
       "player.distance.travelled             0\n",
       "player.impact.depth                   0\n",
       "player.impact.distance.from.center    0\n",
       "player.depth                          0\n",
       "player.distance.from.center           0\n",
       "previous.speed                        0\n",
       "previous.net.clearance                0\n",
       "previous.distance.from.sideline       0\n",
       "previous.depth                        0\n",
       "opponent.depth                        0\n",
       "opponent.distance.from.center         0\n",
       "same.side                             0\n",
       "previous.hitpoint                     0\n",
       "previous.time.to.net                  0\n",
       "server.is.impact.player               0\n",
       "outcome                               0\n",
       "gender                                0\n",
       "dtype: int64"
      ]
     },
     "execution_count": 18,
     "metadata": {},
     "output_type": "execute_result"
    }
   ],
   "source": [
    "data.isnull().sum()"
   ]
  },
  {
   "cell_type": "code",
   "execution_count": 19,
   "metadata": {},
   "outputs": [
    {
     "data": {
      "text/plain": [
       "Index(['rally', 'serve', 'hitpoint', 'speed', 'net.clearance',\n",
       "       'distance.from.sideline', 'depth', 'outside.sideline',\n",
       "       'outside.baseline', 'player.distance.travelled', 'player.impact.depth',\n",
       "       'player.impact.distance.from.center', 'player.depth',\n",
       "       'player.distance.from.center', 'previous.speed',\n",
       "       'previous.net.clearance', 'previous.distance.from.sideline',\n",
       "       'previous.depth', 'opponent.depth', 'opponent.distance.from.center',\n",
       "       'same.side', 'previous.hitpoint', 'previous.time.to.net',\n",
       "       'server.is.impact.player', 'outcome', 'gender'],\n",
       "      dtype='object')"
      ]
     },
     "execution_count": 19,
     "metadata": {},
     "output_type": "execute_result"
    }
   ],
   "source": [
    "data.columns"
   ]
  },
  {
   "cell_type": "code",
   "execution_count": 20,
   "metadata": {},
   "outputs": [],
   "source": [
    "numeric_list = ['rally','serve','speed','net.clearance','distance.from.sideline','depth','player.distance.travelled','player.impact.depth','player.impact.distance.from.center','player.depth','player.distance.from.center','previous.speed','previous.net.clearance','previous.distance.from.sideline','previous.depth','opponent.depth','opponent.distance.from.center','previous.time.to.net']\n",
    "numeric_data = data[numeric_list]"
   ]
  },
  {
   "cell_type": "code",
   "execution_count": 21,
   "metadata": {},
   "outputs": [],
   "source": [
    "categorical_list = [\"hitpoint\",\"outside.sideline\",\n",
    "                    \"outside.baseline\",\"same.side\",\"previous.hitpoint\",\"server.is.impact.player\",\"gender\"]"
   ]
  },
  {
   "cell_type": "code",
   "execution_count": 22,
   "metadata": {},
   "outputs": [],
   "source": [
    "from sklearn.preprocessing import LabelEncoder\n",
    "\n",
    "le1 = LabelEncoder()  ##Use LE best for target\n",
    "for i in categorical_list:  ####uses indices to count unlike dummies\n",
    "    le1.fit(data[i])        ####however follows alphabetic order\n",
    "    data[i] = le1.transform(data[i])"
   ]
  },
  {
   "cell_type": "code",
   "execution_count": 23,
   "metadata": {},
   "outputs": [
    {
     "data": {
      "text/html": [
       "<div>\n",
       "<style scoped>\n",
       "    .dataframe tbody tr th:only-of-type {\n",
       "        vertical-align: middle;\n",
       "    }\n",
       "\n",
       "    .dataframe tbody tr th {\n",
       "        vertical-align: top;\n",
       "    }\n",
       "\n",
       "    .dataframe thead th {\n",
       "        text-align: right;\n",
       "    }\n",
       "</style>\n",
       "<table border=\"1\" class=\"dataframe\">\n",
       "  <thead>\n",
       "    <tr style=\"text-align: right;\">\n",
       "      <th></th>\n",
       "      <th>rally</th>\n",
       "      <th>serve</th>\n",
       "      <th>hitpoint</th>\n",
       "      <th>speed</th>\n",
       "      <th>net.clearance</th>\n",
       "      <th>distance.from.sideline</th>\n",
       "      <th>depth</th>\n",
       "      <th>outside.sideline</th>\n",
       "      <th>outside.baseline</th>\n",
       "      <th>player.distance.travelled</th>\n",
       "      <th>...</th>\n",
       "      <th>previous.distance.from.sideline</th>\n",
       "      <th>previous.depth</th>\n",
       "      <th>opponent.depth</th>\n",
       "      <th>opponent.distance.from.center</th>\n",
       "      <th>same.side</th>\n",
       "      <th>previous.hitpoint</th>\n",
       "      <th>previous.time.to.net</th>\n",
       "      <th>server.is.impact.player</th>\n",
       "      <th>outcome</th>\n",
       "      <th>gender</th>\n",
       "    </tr>\n",
       "  </thead>\n",
       "  <tbody>\n",
       "    <tr>\n",
       "      <th>0</th>\n",
       "      <td>4</td>\n",
       "      <td>1</td>\n",
       "      <td>0</td>\n",
       "      <td>35.515042</td>\n",
       "      <td>-0.021725</td>\n",
       "      <td>3.474766</td>\n",
       "      <td>6.797621</td>\n",
       "      <td>0</td>\n",
       "      <td>0</td>\n",
       "      <td>1.467570</td>\n",
       "      <td>...</td>\n",
       "      <td>2.449182</td>\n",
       "      <td>0.705435</td>\n",
       "      <td>12.5628</td>\n",
       "      <td>2.0724</td>\n",
       "      <td>1</td>\n",
       "      <td>1</td>\n",
       "      <td>0.445318</td>\n",
       "      <td>0</td>\n",
       "      <td>UE</td>\n",
       "      <td>0</td>\n",
       "    </tr>\n",
       "    <tr>\n",
       "      <th>1</th>\n",
       "      <td>4</td>\n",
       "      <td>2</td>\n",
       "      <td>0</td>\n",
       "      <td>33.382640</td>\n",
       "      <td>1.114202</td>\n",
       "      <td>2.540801</td>\n",
       "      <td>2.608708</td>\n",
       "      <td>0</td>\n",
       "      <td>1</td>\n",
       "      <td>2.311931</td>\n",
       "      <td>...</td>\n",
       "      <td>0.583291</td>\n",
       "      <td>3.856600</td>\n",
       "      <td>12.3544</td>\n",
       "      <td>5.1124</td>\n",
       "      <td>0</td>\n",
       "      <td>0</td>\n",
       "      <td>0.432434</td>\n",
       "      <td>0</td>\n",
       "      <td>FE</td>\n",
       "      <td>0</td>\n",
       "    </tr>\n",
       "    <tr>\n",
       "      <th>2</th>\n",
       "      <td>23</td>\n",
       "      <td>1</td>\n",
       "      <td>0</td>\n",
       "      <td>22.316690</td>\n",
       "      <td>-0.254046</td>\n",
       "      <td>3.533166</td>\n",
       "      <td>9.435749</td>\n",
       "      <td>0</td>\n",
       "      <td>0</td>\n",
       "      <td>3.903728</td>\n",
       "      <td>...</td>\n",
       "      <td>1.115250</td>\n",
       "      <td>2.908892</td>\n",
       "      <td>13.8620</td>\n",
       "      <td>1.6564</td>\n",
       "      <td>0</td>\n",
       "      <td>1</td>\n",
       "      <td>0.397538</td>\n",
       "      <td>1</td>\n",
       "      <td>FE</td>\n",
       "      <td>0</td>\n",
       "    </tr>\n",
       "    <tr>\n",
       "      <th>3</th>\n",
       "      <td>9</td>\n",
       "      <td>1</td>\n",
       "      <td>1</td>\n",
       "      <td>36.837309</td>\n",
       "      <td>0.766694</td>\n",
       "      <td>0.586885</td>\n",
       "      <td>3.342180</td>\n",
       "      <td>1</td>\n",
       "      <td>0</td>\n",
       "      <td>0.583745</td>\n",
       "      <td>...</td>\n",
       "      <td>3.256695</td>\n",
       "      <td>0.557554</td>\n",
       "      <td>14.2596</td>\n",
       "      <td>0.1606</td>\n",
       "      <td>1</td>\n",
       "      <td>0</td>\n",
       "      <td>0.671984</td>\n",
       "      <td>1</td>\n",
       "      <td>UE</td>\n",
       "      <td>0</td>\n",
       "    </tr>\n",
       "    <tr>\n",
       "      <th>4</th>\n",
       "      <td>4</td>\n",
       "      <td>1</td>\n",
       "      <td>0</td>\n",
       "      <td>35.544208</td>\n",
       "      <td>0.116162</td>\n",
       "      <td>0.918725</td>\n",
       "      <td>5.499119</td>\n",
       "      <td>0</td>\n",
       "      <td>0</td>\n",
       "      <td>2.333456</td>\n",
       "      <td>...</td>\n",
       "      <td>1.431146</td>\n",
       "      <td>3.945317</td>\n",
       "      <td>11.3658</td>\n",
       "      <td>1.1082</td>\n",
       "      <td>0</td>\n",
       "      <td>1</td>\n",
       "      <td>0.340411</td>\n",
       "      <td>0</td>\n",
       "      <td>W</td>\n",
       "      <td>0</td>\n",
       "    </tr>\n",
       "  </tbody>\n",
       "</table>\n",
       "<p>5 rows × 26 columns</p>\n",
       "</div>"
      ],
      "text/plain": [
       "   rally  serve  hitpoint      speed  net.clearance  distance.from.sideline  \\\n",
       "0      4      1         0  35.515042      -0.021725                3.474766   \n",
       "1      4      2         0  33.382640       1.114202                2.540801   \n",
       "2     23      1         0  22.316690      -0.254046                3.533166   \n",
       "3      9      1         1  36.837309       0.766694                0.586885   \n",
       "4      4      1         0  35.544208       0.116162                0.918725   \n",
       "\n",
       "      depth  outside.sideline  outside.baseline  player.distance.travelled  \\\n",
       "0  6.797621                 0                 0                   1.467570   \n",
       "1  2.608708                 0                 1                   2.311931   \n",
       "2  9.435749                 0                 0                   3.903728   \n",
       "3  3.342180                 1                 0                   0.583745   \n",
       "4  5.499119                 0                 0                   2.333456   \n",
       "\n",
       "   ...  previous.distance.from.sideline  previous.depth  opponent.depth  \\\n",
       "0  ...                         2.449182        0.705435         12.5628   \n",
       "1  ...                         0.583291        3.856600         12.3544   \n",
       "2  ...                         1.115250        2.908892         13.8620   \n",
       "3  ...                         3.256695        0.557554         14.2596   \n",
       "4  ...                         1.431146        3.945317         11.3658   \n",
       "\n",
       "   opponent.distance.from.center  same.side  previous.hitpoint  \\\n",
       "0                         2.0724          1                  1   \n",
       "1                         5.1124          0                  0   \n",
       "2                         1.6564          0                  1   \n",
       "3                         0.1606          1                  0   \n",
       "4                         1.1082          0                  1   \n",
       "\n",
       "   previous.time.to.net  server.is.impact.player  outcome  gender  \n",
       "0              0.445318                        0       UE       0  \n",
       "1              0.432434                        0       FE       0  \n",
       "2              0.397538                        1       FE       0  \n",
       "3              0.671984                        1       UE       0  \n",
       "4              0.340411                        0        W       0  \n",
       "\n",
       "[5 rows x 26 columns]"
      ]
     },
     "execution_count": 23,
     "metadata": {},
     "output_type": "execute_result"
    }
   ],
   "source": [
    "data.head()"
   ]
  },
  {
   "cell_type": "code",
   "execution_count": 24,
   "metadata": {},
   "outputs": [
    {
     "name": "stdout",
     "output_type": "stream",
     "text": [
      "(6400, 25)\n",
      "(1601, 25)\n",
      "(6400,)\n",
      "(1601,)\n"
     ]
    }
   ],
   "source": [
    "# Divide into train and test\n",
    "y=data[\"outcome\"]\n",
    "X=data.drop('outcome', axis=1)\n",
    "X_train, X_test, y_train, y_test = train_test_split(X, y, test_size=0.20, random_state=123)\n",
    "print(X_train.shape)\n",
    "print(X_test.shape)\n",
    "print(y_train.shape)\n",
    "print(y_test.shape)"
   ]
  },
  {
   "cell_type": "code",
   "execution_count": 25,
   "metadata": {},
   "outputs": [
    {
     "data": {
      "text/plain": [
       "UE    2792\n",
       "W     2131\n",
       "FE    1477\n",
       "Name: outcome, dtype: int64"
      ]
     },
     "execution_count": 25,
     "metadata": {},
     "output_type": "execute_result"
    }
   ],
   "source": [
    "y_train.value_counts()"
   ]
  },
  {
   "cell_type": "code",
   "execution_count": 26,
   "metadata": {},
   "outputs": [],
   "source": [
    "from sklearn.preprocessing import StandardScaler \n",
    "from sklearn.preprocessing import OneHotEncoder "
   ]
  },
  {
   "cell_type": "code",
   "execution_count": 27,
   "metadata": {},
   "outputs": [
    {
     "data": {
      "text/plain": [
       "rally                                   int64\n",
       "serve                                   int64\n",
       "hitpoint                                int64\n",
       "speed                                 float64\n",
       "net.clearance                         float64\n",
       "distance.from.sideline                float64\n",
       "depth                                 float64\n",
       "outside.sideline                        int64\n",
       "outside.baseline                        int64\n",
       "player.distance.travelled             float64\n",
       "player.impact.depth                   float64\n",
       "player.impact.distance.from.center    float64\n",
       "player.depth                          float64\n",
       "player.distance.from.center           float64\n",
       "previous.speed                        float64\n",
       "previous.net.clearance                float64\n",
       "previous.distance.from.sideline       float64\n",
       "previous.depth                        float64\n",
       "opponent.depth                        float64\n",
       "opponent.distance.from.center         float64\n",
       "same.side                               int64\n",
       "previous.hitpoint                       int64\n",
       "previous.time.to.net                  float64\n",
       "server.is.impact.player                 int64\n",
       "gender                                  int64\n",
       "dtype: object"
      ]
     },
     "execution_count": 27,
     "metadata": {},
     "output_type": "execute_result"
    }
   ],
   "source": [
    "X_train.dtypes"
   ]
  },
  {
   "cell_type": "code",
   "execution_count": 28,
   "metadata": {},
   "outputs": [],
   "source": [
    "continuous_cols=['rally','serve','speed','net.clearance','distance.from.sideline','depth','player.distance.travelled','player.impact.depth','player.impact.distance.from.center','player.depth','player.distance.from.center','previous.speed','previous.net.clearance','previous.distance.from.sideline','previous.depth','opponent.depth','opponent.distance.from.center','previous.time.to.net']\n",
    "categorical_cols=[\"hitpoint\",\"outside.sideline\",\n",
    "                    \"outside.baseline\",\"same.side\",\"previous.hitpoint\",\"server.is.impact.player\",\"gender\"]"
   ]
  },
  {
   "cell_type": "code",
   "execution_count": 29,
   "metadata": {},
   "outputs": [],
   "source": [
    "scaler = StandardScaler()\n",
    "scaler.fit(X_train[continuous_cols])\n",
    "\n",
    "X_train_num = pd.DataFrame(scaler.transform(X_train[continuous_cols]), columns=continuous_cols)\n",
    "X_test_num = pd.DataFrame(scaler.transform(X_test[continuous_cols]), columns=continuous_cols)"
   ]
  },
  {
   "cell_type": "code",
   "execution_count": 30,
   "metadata": {},
   "outputs": [
    {
     "data": {
      "text/html": [
       "<div>\n",
       "<style scoped>\n",
       "    .dataframe tbody tr th:only-of-type {\n",
       "        vertical-align: middle;\n",
       "    }\n",
       "\n",
       "    .dataframe tbody tr th {\n",
       "        vertical-align: top;\n",
       "    }\n",
       "\n",
       "    .dataframe thead th {\n",
       "        text-align: right;\n",
       "    }\n",
       "</style>\n",
       "<table border=\"1\" class=\"dataframe\">\n",
       "  <thead>\n",
       "    <tr style=\"text-align: right;\">\n",
       "      <th></th>\n",
       "      <th>rally</th>\n",
       "      <th>serve</th>\n",
       "      <th>speed</th>\n",
       "      <th>net.clearance</th>\n",
       "      <th>distance.from.sideline</th>\n",
       "      <th>depth</th>\n",
       "      <th>player.distance.travelled</th>\n",
       "      <th>player.impact.depth</th>\n",
       "      <th>player.impact.distance.from.center</th>\n",
       "      <th>player.depth</th>\n",
       "      <th>player.distance.from.center</th>\n",
       "      <th>previous.speed</th>\n",
       "      <th>previous.net.clearance</th>\n",
       "      <th>previous.distance.from.sideline</th>\n",
       "      <th>previous.depth</th>\n",
       "      <th>opponent.depth</th>\n",
       "      <th>opponent.distance.from.center</th>\n",
       "      <th>previous.time.to.net</th>\n",
       "    </tr>\n",
       "  </thead>\n",
       "  <tbody>\n",
       "    <tr>\n",
       "      <th>0</th>\n",
       "      <td>0.284001</td>\n",
       "      <td>1.223152</td>\n",
       "      <td>0.270615</td>\n",
       "      <td>0.002334</td>\n",
       "      <td>-0.551396</td>\n",
       "      <td>-0.802488</td>\n",
       "      <td>-0.604128</td>\n",
       "      <td>0.476466</td>\n",
       "      <td>-1.026313</td>\n",
       "      <td>-0.246157</td>\n",
       "      <td>-1.238808</td>\n",
       "      <td>0.926002</td>\n",
       "      <td>-0.239310</td>\n",
       "      <td>0.884331</td>\n",
       "      <td>-0.680614</td>\n",
       "      <td>0.667320</td>\n",
       "      <td>-1.112562</td>\n",
       "      <td>-0.372215</td>\n",
       "    </tr>\n",
       "    <tr>\n",
       "      <th>1</th>\n",
       "      <td>0.284001</td>\n",
       "      <td>1.223152</td>\n",
       "      <td>1.423615</td>\n",
       "      <td>-1.101974</td>\n",
       "      <td>0.563017</td>\n",
       "      <td>1.990905</td>\n",
       "      <td>-0.596160</td>\n",
       "      <td>-2.040272</td>\n",
       "      <td>-1.359122</td>\n",
       "      <td>-2.178633</td>\n",
       "      <td>-0.343632</td>\n",
       "      <td>-1.445700</td>\n",
       "      <td>2.632303</td>\n",
       "      <td>-2.010304</td>\n",
       "      <td>-1.172311</td>\n",
       "      <td>1.120620</td>\n",
       "      <td>0.421476</td>\n",
       "      <td>-1.289968</td>\n",
       "    </tr>\n",
       "    <tr>\n",
       "      <th>2</th>\n",
       "      <td>-0.835732</td>\n",
       "      <td>-0.817560</td>\n",
       "      <td>1.784595</td>\n",
       "      <td>0.387496</td>\n",
       "      <td>0.015511</td>\n",
       "      <td>-0.696868</td>\n",
       "      <td>-1.123388</td>\n",
       "      <td>-0.186634</td>\n",
       "      <td>-0.542728</td>\n",
       "      <td>-0.710333</td>\n",
       "      <td>-0.391389</td>\n",
       "      <td>0.135949</td>\n",
       "      <td>-0.469820</td>\n",
       "      <td>1.830155</td>\n",
       "      <td>1.473939</td>\n",
       "      <td>2.198187</td>\n",
       "      <td>-1.035213</td>\n",
       "      <td>0.790395</td>\n",
       "    </tr>\n",
       "    <tr>\n",
       "      <th>3</th>\n",
       "      <td>-0.835732</td>\n",
       "      <td>-0.817560</td>\n",
       "      <td>-0.892546</td>\n",
       "      <td>-0.794785</td>\n",
       "      <td>1.004401</td>\n",
       "      <td>1.191173</td>\n",
       "      <td>-0.983148</td>\n",
       "      <td>0.194731</td>\n",
       "      <td>-1.363776</td>\n",
       "      <td>-0.359815</td>\n",
       "      <td>-0.662629</td>\n",
       "      <td>1.121188</td>\n",
       "      <td>-0.361474</td>\n",
       "      <td>1.342447</td>\n",
       "      <td>-1.700610</td>\n",
       "      <td>0.002965</td>\n",
       "      <td>1.520349</td>\n",
       "      <td>-0.796737</td>\n",
       "    </tr>\n",
       "    <tr>\n",
       "      <th>4</th>\n",
       "      <td>-0.275865</td>\n",
       "      <td>1.223152</td>\n",
       "      <td>1.313516</td>\n",
       "      <td>-0.897582</td>\n",
       "      <td>1.719093</td>\n",
       "      <td>1.246119</td>\n",
       "      <td>-1.367636</td>\n",
       "      <td>0.485582</td>\n",
       "      <td>0.155970</td>\n",
       "      <td>0.610416</td>\n",
       "      <td>0.704737</td>\n",
       "      <td>0.737485</td>\n",
       "      <td>-0.332466</td>\n",
       "      <td>1.649208</td>\n",
       "      <td>-0.484559</td>\n",
       "      <td>1.523882</td>\n",
       "      <td>0.243329</td>\n",
       "      <td>0.099646</td>\n",
       "    </tr>\n",
       "  </tbody>\n",
       "</table>\n",
       "</div>"
      ],
      "text/plain": [
       "      rally     serve     speed  net.clearance  distance.from.sideline  \\\n",
       "0  0.284001  1.223152  0.270615       0.002334               -0.551396   \n",
       "1  0.284001  1.223152  1.423615      -1.101974                0.563017   \n",
       "2 -0.835732 -0.817560  1.784595       0.387496                0.015511   \n",
       "3 -0.835732 -0.817560 -0.892546      -0.794785                1.004401   \n",
       "4 -0.275865  1.223152  1.313516      -0.897582                1.719093   \n",
       "\n",
       "      depth  player.distance.travelled  player.impact.depth  \\\n",
       "0 -0.802488                  -0.604128             0.476466   \n",
       "1  1.990905                  -0.596160            -2.040272   \n",
       "2 -0.696868                  -1.123388            -0.186634   \n",
       "3  1.191173                  -0.983148             0.194731   \n",
       "4  1.246119                  -1.367636             0.485582   \n",
       "\n",
       "   player.impact.distance.from.center  player.depth  \\\n",
       "0                           -1.026313     -0.246157   \n",
       "1                           -1.359122     -2.178633   \n",
       "2                           -0.542728     -0.710333   \n",
       "3                           -1.363776     -0.359815   \n",
       "4                            0.155970      0.610416   \n",
       "\n",
       "   player.distance.from.center  previous.speed  previous.net.clearance  \\\n",
       "0                    -1.238808        0.926002               -0.239310   \n",
       "1                    -0.343632       -1.445700                2.632303   \n",
       "2                    -0.391389        0.135949               -0.469820   \n",
       "3                    -0.662629        1.121188               -0.361474   \n",
       "4                     0.704737        0.737485               -0.332466   \n",
       "\n",
       "   previous.distance.from.sideline  previous.depth  opponent.depth  \\\n",
       "0                         0.884331       -0.680614        0.667320   \n",
       "1                        -2.010304       -1.172311        1.120620   \n",
       "2                         1.830155        1.473939        2.198187   \n",
       "3                         1.342447       -1.700610        0.002965   \n",
       "4                         1.649208       -0.484559        1.523882   \n",
       "\n",
       "   opponent.distance.from.center  previous.time.to.net  \n",
       "0                      -1.112562             -0.372215  \n",
       "1                       0.421476             -1.289968  \n",
       "2                      -1.035213              0.790395  \n",
       "3                       1.520349             -0.796737  \n",
       "4                       0.243329              0.099646  "
      ]
     },
     "execution_count": 30,
     "metadata": {},
     "output_type": "execute_result"
    }
   ],
   "source": [
    "X_train_num.head()"
   ]
  },
  {
   "cell_type": "code",
   "execution_count": 31,
   "metadata": {},
   "outputs": [
    {
     "name": "stdout",
     "output_type": "stream",
     "text": [
      "1    3527\n",
      "0    2419\n",
      "2     345\n",
      "3     109\n",
      "Name: hitpoint, dtype: int64\n",
      "0    5190\n",
      "1    1210\n",
      "Name: outside.sideline, dtype: int64\n"
     ]
    }
   ],
   "source": [
    "print(X_train.hitpoint.value_counts())\n",
    "print(X_train['outside.sideline'].value_counts())"
   ]
  },
  {
   "cell_type": "code",
   "execution_count": 32,
   "metadata": {},
   "outputs": [
    {
     "name": "stdout",
     "output_type": "stream",
     "text": [
      "['x0_0', 'x0_1', 'x0_2', 'x0_3', 'x1_0', 'x1_1', 'x2_0', 'x2_1', 'x3_0', 'x3_1', 'x4_0', 'x4_1', 'x4_2', 'x4_3', 'x5_0', 'x5_1', 'x6_0', 'x6_1']\n"
     ]
    }
   ],
   "source": [
    "ohe = OneHotEncoder()\n",
    "\n",
    "ohe.fit(X_train[categorical_cols])\n",
    "\n",
    "columns_ohe = list(ohe.get_feature_names())\n",
    "print(columns_ohe)"
   ]
  },
  {
   "cell_type": "code",
   "execution_count": 33,
   "metadata": {},
   "outputs": [],
   "source": [
    "X_train_cat = ohe.transform(X_train[categorical_cols])\n",
    "X_test_cat = ohe.transform(X_test[categorical_cols])"
   ]
  },
  {
   "cell_type": "code",
   "execution_count": 34,
   "metadata": {},
   "outputs": [],
   "source": [
    "X_train_cat = pd.DataFrame(X_train_cat.todense(), columns=columns_ohe)\n",
    "X_test_cat = pd.DataFrame(X_test_cat.todense(), columns=columns_ohe)"
   ]
  },
  {
   "cell_type": "code",
   "execution_count": 35,
   "metadata": {},
   "outputs": [
    {
     "data": {
      "text/html": [
       "<div>\n",
       "<style scoped>\n",
       "    .dataframe tbody tr th:only-of-type {\n",
       "        vertical-align: middle;\n",
       "    }\n",
       "\n",
       "    .dataframe tbody tr th {\n",
       "        vertical-align: top;\n",
       "    }\n",
       "\n",
       "    .dataframe thead th {\n",
       "        text-align: right;\n",
       "    }\n",
       "</style>\n",
       "<table border=\"1\" class=\"dataframe\">\n",
       "  <thead>\n",
       "    <tr style=\"text-align: right;\">\n",
       "      <th></th>\n",
       "      <th>x0_0</th>\n",
       "      <th>x0_1</th>\n",
       "      <th>x0_2</th>\n",
       "      <th>x0_3</th>\n",
       "      <th>x1_0</th>\n",
       "      <th>x1_1</th>\n",
       "      <th>x2_0</th>\n",
       "      <th>x2_1</th>\n",
       "      <th>x3_0</th>\n",
       "      <th>x3_1</th>\n",
       "      <th>x4_0</th>\n",
       "      <th>x4_1</th>\n",
       "      <th>x4_2</th>\n",
       "      <th>x4_3</th>\n",
       "      <th>x5_0</th>\n",
       "      <th>x5_1</th>\n",
       "      <th>x6_0</th>\n",
       "      <th>x6_1</th>\n",
       "    </tr>\n",
       "  </thead>\n",
       "  <tbody>\n",
       "    <tr>\n",
       "      <th>0</th>\n",
       "      <td>1.0</td>\n",
       "      <td>0.0</td>\n",
       "      <td>0.0</td>\n",
       "      <td>0.0</td>\n",
       "      <td>0.0</td>\n",
       "      <td>1.0</td>\n",
       "      <td>1.0</td>\n",
       "      <td>0.0</td>\n",
       "      <td>1.0</td>\n",
       "      <td>0.0</td>\n",
       "      <td>1.0</td>\n",
       "      <td>0.0</td>\n",
       "      <td>0.0</td>\n",
       "      <td>0.0</td>\n",
       "      <td>0.0</td>\n",
       "      <td>1.0</td>\n",
       "      <td>0.0</td>\n",
       "      <td>1.0</td>\n",
       "    </tr>\n",
       "    <tr>\n",
       "      <th>1</th>\n",
       "      <td>0.0</td>\n",
       "      <td>0.0</td>\n",
       "      <td>1.0</td>\n",
       "      <td>0.0</td>\n",
       "      <td>1.0</td>\n",
       "      <td>0.0</td>\n",
       "      <td>1.0</td>\n",
       "      <td>0.0</td>\n",
       "      <td>0.0</td>\n",
       "      <td>1.0</td>\n",
       "      <td>0.0</td>\n",
       "      <td>0.0</td>\n",
       "      <td>0.0</td>\n",
       "      <td>1.0</td>\n",
       "      <td>0.0</td>\n",
       "      <td>1.0</td>\n",
       "      <td>1.0</td>\n",
       "      <td>0.0</td>\n",
       "    </tr>\n",
       "    <tr>\n",
       "      <th>2</th>\n",
       "      <td>0.0</td>\n",
       "      <td>1.0</td>\n",
       "      <td>0.0</td>\n",
       "      <td>0.0</td>\n",
       "      <td>1.0</td>\n",
       "      <td>0.0</td>\n",
       "      <td>0.0</td>\n",
       "      <td>1.0</td>\n",
       "      <td>1.0</td>\n",
       "      <td>0.0</td>\n",
       "      <td>1.0</td>\n",
       "      <td>0.0</td>\n",
       "      <td>0.0</td>\n",
       "      <td>0.0</td>\n",
       "      <td>0.0</td>\n",
       "      <td>1.0</td>\n",
       "      <td>1.0</td>\n",
       "      <td>0.0</td>\n",
       "    </tr>\n",
       "    <tr>\n",
       "      <th>3</th>\n",
       "      <td>1.0</td>\n",
       "      <td>0.0</td>\n",
       "      <td>0.0</td>\n",
       "      <td>0.0</td>\n",
       "      <td>1.0</td>\n",
       "      <td>0.0</td>\n",
       "      <td>1.0</td>\n",
       "      <td>0.0</td>\n",
       "      <td>1.0</td>\n",
       "      <td>0.0</td>\n",
       "      <td>0.0</td>\n",
       "      <td>1.0</td>\n",
       "      <td>0.0</td>\n",
       "      <td>0.0</td>\n",
       "      <td>0.0</td>\n",
       "      <td>1.0</td>\n",
       "      <td>0.0</td>\n",
       "      <td>1.0</td>\n",
       "    </tr>\n",
       "    <tr>\n",
       "      <th>4</th>\n",
       "      <td>0.0</td>\n",
       "      <td>1.0</td>\n",
       "      <td>0.0</td>\n",
       "      <td>0.0</td>\n",
       "      <td>1.0</td>\n",
       "      <td>0.0</td>\n",
       "      <td>1.0</td>\n",
       "      <td>0.0</td>\n",
       "      <td>1.0</td>\n",
       "      <td>0.0</td>\n",
       "      <td>1.0</td>\n",
       "      <td>0.0</td>\n",
       "      <td>0.0</td>\n",
       "      <td>0.0</td>\n",
       "      <td>0.0</td>\n",
       "      <td>1.0</td>\n",
       "      <td>1.0</td>\n",
       "      <td>0.0</td>\n",
       "    </tr>\n",
       "  </tbody>\n",
       "</table>\n",
       "</div>"
      ],
      "text/plain": [
       "   x0_0  x0_1  x0_2  x0_3  x1_0  x1_1  x2_0  x2_1  x3_0  x3_1  x4_0  x4_1  \\\n",
       "0   1.0   0.0   0.0   0.0   0.0   1.0   1.0   0.0   1.0   0.0   1.0   0.0   \n",
       "1   0.0   0.0   1.0   0.0   1.0   0.0   1.0   0.0   0.0   1.0   0.0   0.0   \n",
       "2   0.0   1.0   0.0   0.0   1.0   0.0   0.0   1.0   1.0   0.0   1.0   0.0   \n",
       "3   1.0   0.0   0.0   0.0   1.0   0.0   1.0   0.0   1.0   0.0   0.0   1.0   \n",
       "4   0.0   1.0   0.0   0.0   1.0   0.0   1.0   0.0   1.0   0.0   1.0   0.0   \n",
       "\n",
       "   x4_2  x4_3  x5_0  x5_1  x6_0  x6_1  \n",
       "0   0.0   0.0   0.0   1.0   0.0   1.0  \n",
       "1   0.0   1.0   0.0   1.0   1.0   0.0  \n",
       "2   0.0   0.0   0.0   1.0   1.0   0.0  \n",
       "3   0.0   0.0   0.0   1.0   0.0   1.0  \n",
       "4   0.0   0.0   0.0   1.0   1.0   0.0  "
      ]
     },
     "execution_count": 35,
     "metadata": {},
     "output_type": "execute_result"
    }
   ],
   "source": [
    "X_train_cat.head()"
   ]
  },
  {
   "cell_type": "code",
   "execution_count": 36,
   "metadata": {},
   "outputs": [],
   "source": [
    "# X_train_num = X_train.drop(columns=categorical_cols, axis=1)\n",
    "# X_test_num = X_test.drop(columns=categorical_cols, axis=1)"
   ]
  },
  {
   "cell_type": "code",
   "execution_count": 38,
   "metadata": {},
   "outputs": [],
   "source": [
    "X_train = pd.concat([X_train_cat, X_train_num], axis=1)\n",
    "X_test = pd.concat([X_test_cat, X_test_num], axis=1)"
   ]
  },
  {
   "cell_type": "code",
   "execution_count": 39,
   "metadata": {},
   "outputs": [
    {
     "data": {
      "text/html": [
       "<div>\n",
       "<style scoped>\n",
       "    .dataframe tbody tr th:only-of-type {\n",
       "        vertical-align: middle;\n",
       "    }\n",
       "\n",
       "    .dataframe tbody tr th {\n",
       "        vertical-align: top;\n",
       "    }\n",
       "\n",
       "    .dataframe thead th {\n",
       "        text-align: right;\n",
       "    }\n",
       "</style>\n",
       "<table border=\"1\" class=\"dataframe\">\n",
       "  <thead>\n",
       "    <tr style=\"text-align: right;\">\n",
       "      <th></th>\n",
       "      <th>x0_0</th>\n",
       "      <th>x0_1</th>\n",
       "      <th>x0_2</th>\n",
       "      <th>x0_3</th>\n",
       "      <th>x1_0</th>\n",
       "      <th>x1_1</th>\n",
       "      <th>x2_0</th>\n",
       "      <th>x2_1</th>\n",
       "      <th>x3_0</th>\n",
       "      <th>x3_1</th>\n",
       "      <th>...</th>\n",
       "      <th>player.impact.distance.from.center</th>\n",
       "      <th>player.depth</th>\n",
       "      <th>player.distance.from.center</th>\n",
       "      <th>previous.speed</th>\n",
       "      <th>previous.net.clearance</th>\n",
       "      <th>previous.distance.from.sideline</th>\n",
       "      <th>previous.depth</th>\n",
       "      <th>opponent.depth</th>\n",
       "      <th>opponent.distance.from.center</th>\n",
       "      <th>previous.time.to.net</th>\n",
       "    </tr>\n",
       "  </thead>\n",
       "  <tbody>\n",
       "    <tr>\n",
       "      <th>0</th>\n",
       "      <td>1.0</td>\n",
       "      <td>0.0</td>\n",
       "      <td>0.0</td>\n",
       "      <td>0.0</td>\n",
       "      <td>0.0</td>\n",
       "      <td>1.0</td>\n",
       "      <td>1.0</td>\n",
       "      <td>0.0</td>\n",
       "      <td>1.0</td>\n",
       "      <td>0.0</td>\n",
       "      <td>...</td>\n",
       "      <td>-1.026313</td>\n",
       "      <td>-0.246157</td>\n",
       "      <td>-1.238808</td>\n",
       "      <td>0.926002</td>\n",
       "      <td>-0.239310</td>\n",
       "      <td>0.884331</td>\n",
       "      <td>-0.680614</td>\n",
       "      <td>0.667320</td>\n",
       "      <td>-1.112562</td>\n",
       "      <td>-0.372215</td>\n",
       "    </tr>\n",
       "    <tr>\n",
       "      <th>1</th>\n",
       "      <td>0.0</td>\n",
       "      <td>0.0</td>\n",
       "      <td>1.0</td>\n",
       "      <td>0.0</td>\n",
       "      <td>1.0</td>\n",
       "      <td>0.0</td>\n",
       "      <td>1.0</td>\n",
       "      <td>0.0</td>\n",
       "      <td>0.0</td>\n",
       "      <td>1.0</td>\n",
       "      <td>...</td>\n",
       "      <td>-1.359122</td>\n",
       "      <td>-2.178633</td>\n",
       "      <td>-0.343632</td>\n",
       "      <td>-1.445700</td>\n",
       "      <td>2.632303</td>\n",
       "      <td>-2.010304</td>\n",
       "      <td>-1.172311</td>\n",
       "      <td>1.120620</td>\n",
       "      <td>0.421476</td>\n",
       "      <td>-1.289968</td>\n",
       "    </tr>\n",
       "    <tr>\n",
       "      <th>2</th>\n",
       "      <td>0.0</td>\n",
       "      <td>1.0</td>\n",
       "      <td>0.0</td>\n",
       "      <td>0.0</td>\n",
       "      <td>1.0</td>\n",
       "      <td>0.0</td>\n",
       "      <td>0.0</td>\n",
       "      <td>1.0</td>\n",
       "      <td>1.0</td>\n",
       "      <td>0.0</td>\n",
       "      <td>...</td>\n",
       "      <td>-0.542728</td>\n",
       "      <td>-0.710333</td>\n",
       "      <td>-0.391389</td>\n",
       "      <td>0.135949</td>\n",
       "      <td>-0.469820</td>\n",
       "      <td>1.830155</td>\n",
       "      <td>1.473939</td>\n",
       "      <td>2.198187</td>\n",
       "      <td>-1.035213</td>\n",
       "      <td>0.790395</td>\n",
       "    </tr>\n",
       "    <tr>\n",
       "      <th>3</th>\n",
       "      <td>1.0</td>\n",
       "      <td>0.0</td>\n",
       "      <td>0.0</td>\n",
       "      <td>0.0</td>\n",
       "      <td>1.0</td>\n",
       "      <td>0.0</td>\n",
       "      <td>1.0</td>\n",
       "      <td>0.0</td>\n",
       "      <td>1.0</td>\n",
       "      <td>0.0</td>\n",
       "      <td>...</td>\n",
       "      <td>-1.363776</td>\n",
       "      <td>-0.359815</td>\n",
       "      <td>-0.662629</td>\n",
       "      <td>1.121188</td>\n",
       "      <td>-0.361474</td>\n",
       "      <td>1.342447</td>\n",
       "      <td>-1.700610</td>\n",
       "      <td>0.002965</td>\n",
       "      <td>1.520349</td>\n",
       "      <td>-0.796737</td>\n",
       "    </tr>\n",
       "    <tr>\n",
       "      <th>4</th>\n",
       "      <td>0.0</td>\n",
       "      <td>1.0</td>\n",
       "      <td>0.0</td>\n",
       "      <td>0.0</td>\n",
       "      <td>1.0</td>\n",
       "      <td>0.0</td>\n",
       "      <td>1.0</td>\n",
       "      <td>0.0</td>\n",
       "      <td>1.0</td>\n",
       "      <td>0.0</td>\n",
       "      <td>...</td>\n",
       "      <td>0.155970</td>\n",
       "      <td>0.610416</td>\n",
       "      <td>0.704737</td>\n",
       "      <td>0.737485</td>\n",
       "      <td>-0.332466</td>\n",
       "      <td>1.649208</td>\n",
       "      <td>-0.484559</td>\n",
       "      <td>1.523882</td>\n",
       "      <td>0.243329</td>\n",
       "      <td>0.099646</td>\n",
       "    </tr>\n",
       "  </tbody>\n",
       "</table>\n",
       "<p>5 rows × 36 columns</p>\n",
       "</div>"
      ],
      "text/plain": [
       "   x0_0  x0_1  x0_2  x0_3  x1_0  x1_1  x2_0  x2_1  x3_0  x3_1  ...  \\\n",
       "0   1.0   0.0   0.0   0.0   0.0   1.0   1.0   0.0   1.0   0.0  ...   \n",
       "1   0.0   0.0   1.0   0.0   1.0   0.0   1.0   0.0   0.0   1.0  ...   \n",
       "2   0.0   1.0   0.0   0.0   1.0   0.0   0.0   1.0   1.0   0.0  ...   \n",
       "3   1.0   0.0   0.0   0.0   1.0   0.0   1.0   0.0   1.0   0.0  ...   \n",
       "4   0.0   1.0   0.0   0.0   1.0   0.0   1.0   0.0   1.0   0.0  ...   \n",
       "\n",
       "   player.impact.distance.from.center  player.depth  \\\n",
       "0                           -1.026313     -0.246157   \n",
       "1                           -1.359122     -2.178633   \n",
       "2                           -0.542728     -0.710333   \n",
       "3                           -1.363776     -0.359815   \n",
       "4                            0.155970      0.610416   \n",
       "\n",
       "   player.distance.from.center  previous.speed  previous.net.clearance  \\\n",
       "0                    -1.238808        0.926002               -0.239310   \n",
       "1                    -0.343632       -1.445700                2.632303   \n",
       "2                    -0.391389        0.135949               -0.469820   \n",
       "3                    -0.662629        1.121188               -0.361474   \n",
       "4                     0.704737        0.737485               -0.332466   \n",
       "\n",
       "   previous.distance.from.sideline  previous.depth  opponent.depth  \\\n",
       "0                         0.884331       -0.680614        0.667320   \n",
       "1                        -2.010304       -1.172311        1.120620   \n",
       "2                         1.830155        1.473939        2.198187   \n",
       "3                         1.342447       -1.700610        0.002965   \n",
       "4                         1.649208       -0.484559        1.523882   \n",
       "\n",
       "   opponent.distance.from.center  previous.time.to.net  \n",
       "0                      -1.112562             -0.372215  \n",
       "1                       0.421476             -1.289968  \n",
       "2                      -1.035213              0.790395  \n",
       "3                       1.520349             -0.796737  \n",
       "4                       0.243329              0.099646  \n",
       "\n",
       "[5 rows x 36 columns]"
      ]
     },
     "execution_count": 39,
     "metadata": {},
     "output_type": "execute_result"
    }
   ],
   "source": [
    "X_train.head()"
   ]
  },
  {
   "cell_type": "code",
   "execution_count": 40,
   "metadata": {},
   "outputs": [
    {
     "name": "stdout",
     "output_type": "stream",
     "text": [
      "<class 'pandas.core.frame.DataFrame'>\n",
      "<class 'pandas.core.frame.DataFrame'>\n"
     ]
    }
   ],
   "source": [
    "print(type(X_train))\n",
    "print(type(X_test))"
   ]
  },
  {
   "cell_type": "code",
   "execution_count": 41,
   "metadata": {},
   "outputs": [
    {
     "name": "stdout",
     "output_type": "stream",
     "text": [
      "<class 'numpy.ndarray'>\n",
      "<class 'numpy.ndarray'>\n"
     ]
    }
   ],
   "source": [
    "X_train = X_train.values\n",
    "X_test = X_test.values\n",
    "\n",
    "print(type(X_train))\n",
    "print(type(X_test))"
   ]
  },
  {
   "cell_type": "code",
   "execution_count": 42,
   "metadata": {},
   "outputs": [],
   "source": [
    "#Create adaboost-decision tree classifier object \n",
    "\n",
    "Adaboost_model = AdaBoostClassifier(DecisionTreeClassifier(max_depth=2),n_estimators=600, learning_rate=1)"
   ]
  },
  {
   "cell_type": "code",
   "execution_count": 43,
   "metadata": {},
   "outputs": [
    {
     "name": "stdout",
     "output_type": "stream",
     "text": [
      "CPU times: user 19.4 s, sys: 41.3 ms, total: 19.4 s\n",
      "Wall time: 19.4 s\n"
     ]
    },
    {
     "data": {
      "text/plain": [
       "AdaBoostClassifier(algorithm='SAMME.R',\n",
       "                   base_estimator=DecisionTreeClassifier(ccp_alpha=0.0,\n",
       "                                                         class_weight=None,\n",
       "                                                         criterion='gini',\n",
       "                                                         max_depth=2,\n",
       "                                                         max_features=None,\n",
       "                                                         max_leaf_nodes=None,\n",
       "                                                         min_impurity_decrease=0.0,\n",
       "                                                         min_impurity_split=None,\n",
       "                                                         min_samples_leaf=1,\n",
       "                                                         min_samples_split=2,\n",
       "                                                         min_weight_fraction_leaf=0.0,\n",
       "                                                         presort='deprecated',\n",
       "                                                         random_state=None,\n",
       "                                                         splitter='best'),\n",
       "                   learning_rate=1, n_estimators=600, random_state=None)"
      ]
     },
     "execution_count": 43,
     "metadata": {},
     "output_type": "execute_result"
    }
   ],
   "source": [
    "%time Adaboost_model.fit(X_train,y_train)"
   ]
  },
  {
   "cell_type": "code",
   "execution_count": 44,
   "metadata": {},
   "outputs": [],
   "source": [
    "y_preds = Adaboost_model.predict(X_test)"
   ]
  },
  {
   "cell_type": "code",
   "execution_count": 45,
   "metadata": {},
   "outputs": [
    {
     "name": "stdout",
     "output_type": "stream",
     "text": [
      "0.8307307932542161\n"
     ]
    }
   ],
   "source": [
    "print(accuracy_score(y_test,y_preds))"
   ]
  },
  {
   "cell_type": "code",
   "execution_count": 46,
   "metadata": {},
   "outputs": [],
   "source": [
    "param_grid = {'n_estimators' : [100, 150, 200],\n",
    "              'learning_rate' : [0.1, 0.5, 0.9]}\n",
    "\n",
    "Adaboost_model_clf = GridSearchCV(AdaBoostClassifier(\n",
    "            DecisionTreeClassifier(max_depth=2)), param_grid, n_jobs=-1)"
   ]
  },
  {
   "cell_type": "code",
   "execution_count": 47,
   "metadata": {},
   "outputs": [
    {
     "name": "stdout",
     "output_type": "stream",
     "text": [
      "CPU times: user 5.07 s, sys: 101 ms, total: 5.17 s\n",
      "Wall time: 46.6 s\n"
     ]
    },
    {
     "data": {
      "text/plain": [
       "GridSearchCV(cv=None, error_score=nan,\n",
       "             estimator=AdaBoostClassifier(algorithm='SAMME.R',\n",
       "                                          base_estimator=DecisionTreeClassifier(ccp_alpha=0.0,\n",
       "                                                                                class_weight=None,\n",
       "                                                                                criterion='gini',\n",
       "                                                                                max_depth=2,\n",
       "                                                                                max_features=None,\n",
       "                                                                                max_leaf_nodes=None,\n",
       "                                                                                min_impurity_decrease=0.0,\n",
       "                                                                                min_impurity_split=None,\n",
       "                                                                                min_samples_leaf=1,\n",
       "                                                                                min_samples_split=2,\n",
       "                                                                                min_weight_fraction_leaf=0.0,\n",
       "                                                                                presort='deprecated',\n",
       "                                                                                random_state=None,\n",
       "                                                                                splitter='best'),\n",
       "                                          learning_rate=1.0, n_estimators=50,\n",
       "                                          random_state=None),\n",
       "             iid='deprecated', n_jobs=-1,\n",
       "             param_grid={'learning_rate': [0.1, 0.5, 0.9],\n",
       "                         'n_estimators': [100, 150, 200]},\n",
       "             pre_dispatch='2*n_jobs', refit=True, return_train_score=False,\n",
       "             scoring=None, verbose=0)"
      ]
     },
     "execution_count": 47,
     "metadata": {},
     "output_type": "execute_result"
    }
   ],
   "source": [
    "%time Adaboost_model_clf.fit(X_train, y_train)"
   ]
  },
  {
   "cell_type": "code",
   "execution_count": 48,
   "metadata": {},
   "outputs": [
    {
     "name": "stdout",
     "output_type": "stream",
     "text": [
      "0.8535937499999999 {'learning_rate': 0.1, 'n_estimators': 150}\n"
     ]
    }
   ],
   "source": [
    "best_ada_model = Adaboost_model_clf.best_estimator_\n",
    "print(Adaboost_model_clf.best_score_, Adaboost_model_clf.best_params_)"
   ]
  },
  {
   "cell_type": "code",
   "execution_count": 49,
   "metadata": {},
   "outputs": [],
   "source": [
    "y_pred_test = best_ada_model.predict(X_test)"
   ]
  },
  {
   "cell_type": "code",
   "execution_count": 50,
   "metadata": {},
   "outputs": [
    {
     "name": "stdout",
     "output_type": "stream",
     "text": [
      "0.8600874453466584\n"
     ]
    }
   ],
   "source": [
    "print(accuracy_score(y_test,y_pred_test))"
   ]
  },
  {
   "cell_type": "code",
   "execution_count": 51,
   "metadata": {},
   "outputs": [
    {
     "name": "stdout",
     "output_type": "stream",
     "text": [
      "[[223 108  10]\n",
      " [ 49 627  33]\n",
      " [ 10  14 527]]\n"
     ]
    }
   ],
   "source": [
    "print(confusion_matrix(y_test, y_pred_test))"
   ]
  },
  {
   "cell_type": "markdown",
   "metadata": {},
   "source": [
    "<b>Building the Gradient Boosting Classifier</b>"
   ]
  },
  {
   "cell_type": "code",
   "execution_count": 52,
   "metadata": {},
   "outputs": [],
   "source": [
    "GBM_model = GradientBoostingClassifier(n_estimators=50,\n",
    "                                      learning_rate=0.3,\n",
    "                                      subsample=0.8)"
   ]
  },
  {
   "cell_type": "code",
   "execution_count": 53,
   "metadata": {},
   "outputs": [
    {
     "name": "stdout",
     "output_type": "stream",
     "text": [
      "CPU times: user 4.04 s, sys: 10.6 ms, total: 4.05 s\n",
      "Wall time: 4.06 s\n"
     ]
    },
    {
     "data": {
      "text/plain": [
       "GradientBoostingClassifier(ccp_alpha=0.0, criterion='friedman_mse', init=None,\n",
       "                           learning_rate=0.3, loss='deviance', max_depth=3,\n",
       "                           max_features=None, max_leaf_nodes=None,\n",
       "                           min_impurity_decrease=0.0, min_impurity_split=None,\n",
       "                           min_samples_leaf=1, min_samples_split=2,\n",
       "                           min_weight_fraction_leaf=0.0, n_estimators=50,\n",
       "                           n_iter_no_change=None, presort='deprecated',\n",
       "                           random_state=None, subsample=0.8, tol=0.0001,\n",
       "                           validation_fraction=0.1, verbose=0,\n",
       "                           warm_start=False)"
      ]
     },
     "execution_count": 53,
     "metadata": {},
     "output_type": "execute_result"
    }
   ],
   "source": [
    "%time GBM_model.fit(X=X_train, y=y_train)"
   ]
  },
  {
   "cell_type": "code",
   "execution_count": 54,
   "metadata": {},
   "outputs": [],
   "source": [
    "y_pred = GBM_model.predict(X_test)"
   ]
  },
  {
   "cell_type": "code",
   "execution_count": 55,
   "metadata": {},
   "outputs": [
    {
     "name": "stdout",
     "output_type": "stream",
     "text": [
      "0.8663335415365396\n",
      "              precision    recall  f1-score   support\n",
      "\n",
      "          FE     0.7568    0.7390    0.7478       341\n",
      "          UE     0.8691    0.8618    0.8654       709\n",
      "           W     0.9274    0.9510    0.9391       551\n",
      "\n",
      "    accuracy                         0.8663      1601\n",
      "   macro avg     0.8511    0.8506    0.8508      1601\n",
      "weighted avg     0.8653    0.8663    0.8657      1601\n",
      "\n"
     ]
    }
   ],
   "source": [
    "print(accuracy_score(y_test,y_pred))\n",
    "print(classification_report(y_test,y_pred,digits=4))"
   ]
  },
  {
   "cell_type": "code",
   "execution_count": 56,
   "metadata": {},
   "outputs": [],
   "source": [
    "#Model in use \n",
    "\n",
    "GBM = GradientBoostingClassifier()\n",
    "#use a grid over parameters of interest \n",
    "param_grid = {'n_estimators':[100,150],\n",
    "              'max_depth':[5,10],\n",
    "              'learning_rate': [0.1,0.2]}\n",
    "CV_GBM = GridSearchCV(estimator=GBM, param_grid=param_grid,cv=5)"
   ]
  },
  {
   "cell_type": "code",
   "execution_count": 57,
   "metadata": {},
   "outputs": [
    {
     "name": "stdout",
     "output_type": "stream",
     "text": [
      "CPU times: user 13min 47s, sys: 1.44 s, total: 13min 49s\n",
      "Wall time: 13min 50s\n"
     ]
    },
    {
     "data": {
      "text/plain": [
       "GridSearchCV(cv=5, error_score=nan,\n",
       "             estimator=GradientBoostingClassifier(ccp_alpha=0.0,\n",
       "                                                  criterion='friedman_mse',\n",
       "                                                  init=None, learning_rate=0.1,\n",
       "                                                  loss='deviance', max_depth=3,\n",
       "                                                  max_features=None,\n",
       "                                                  max_leaf_nodes=None,\n",
       "                                                  min_impurity_decrease=0.0,\n",
       "                                                  min_impurity_split=None,\n",
       "                                                  min_samples_leaf=1,\n",
       "                                                  min_samples_split=2,\n",
       "                                                  min_weight_fraction_leaf=0.0,\n",
       "                                                  n_estimators=100,\n",
       "                                                  n_iter_no_change=None,\n",
       "                                                  presort='deprecated',\n",
       "                                                  random_state=None,\n",
       "                                                  subsample=1.0, tol=0.0001,\n",
       "                                                  validation_fraction=0.1,\n",
       "                                                  verbose=0, warm_start=False),\n",
       "             iid='deprecated', n_jobs=None,\n",
       "             param_grid={'learning_rate': [0.1, 0.2], 'max_depth': [5, 10],\n",
       "                         'n_estimators': [100, 150]},\n",
       "             pre_dispatch='2*n_jobs', refit=True, return_train_score=False,\n",
       "             scoring=None, verbose=0)"
      ]
     },
     "execution_count": 57,
     "metadata": {},
     "output_type": "execute_result"
    }
   ],
   "source": [
    "%time CV_GBM.fit(X=X_train,y=y_train)"
   ]
  },
  {
   "cell_type": "code",
   "execution_count": 58,
   "metadata": {},
   "outputs": [
    {
     "name": "stdout",
     "output_type": "stream",
     "text": [
      "0.8737499999999999 {'learning_rate': 0.1, 'max_depth': 10, 'n_estimators': 150}\n"
     ]
    }
   ],
   "source": [
    "# Find best model \n",
    "best_gbm_model = CV_GBM.best_estimator_\n",
    "print(CV_GBM.best_score_,CV_GBM.best_params_)"
   ]
  },
  {
   "cell_type": "code",
   "execution_count": 59,
   "metadata": {},
   "outputs": [
    {
     "name": "stdout",
     "output_type": "stream",
     "text": [
      "[[223 108  10]\n",
      " [ 49 627  33]\n",
      " [ 10  14 527]]\n"
     ]
    }
   ],
   "source": [
    "print(confusion_matrix(y_test,y_pred_test))"
   ]
  },
  {
   "cell_type": "code",
   "execution_count": null,
   "metadata": {},
   "outputs": [],
   "source": []
  }
 ],
 "metadata": {
  "kernelspec": {
   "display_name": "Python 3",
   "language": "python",
   "name": "python3"
  },
  "language_info": {
   "codemirror_mode": {
    "name": "ipython",
    "version": 3
   },
   "file_extension": ".py",
   "mimetype": "text/x-python",
   "name": "python",
   "nbconvert_exporter": "python",
   "pygments_lexer": "ipython3",
   "version": "3.7.6"
  }
 },
 "nbformat": 4,
 "nbformat_minor": 4
}
